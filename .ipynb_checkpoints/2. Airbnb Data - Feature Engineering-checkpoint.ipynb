{
 "cells": [
  {
   "cell_type": "markdown",
   "id": "64016ea4",
   "metadata": {
    "scrolled": true
   },
   "source": [
    "## Feature Engineering"
   ]
  },
  {
   "cell_type": "code",
   "execution_count": 1,
   "id": "1bdc4856",
   "metadata": {},
   "outputs": [],
   "source": [
    "# Import pandas library\n",
    "import pandas as pd"
   ]
  },
  {
   "cell_type": "code",
   "execution_count": 2,
   "id": "93eb51d6",
   "metadata": {},
   "outputs": [],
   "source": [
    "#Read scrapped data file\n",
    "#open airbnb_hawai_data.csv file from appropriate folder\n",
    "Airbnbdata = pd.read_csv(r'C:/Users/pooja/OneDrive/Desktop/AirBnb - Web Scraping & Data Analysis/Airbnb_WebScrap_Data.csv').drop('Unnamed: 0',axis='columns')\n",
    "#Airbnbdata"
   ]
  },
  {
   "cell_type": "code",
   "execution_count": 3,
   "id": "69356a59",
   "metadata": {},
   "outputs": [],
   "source": [
    "#Seprate the area of accomodation from 'Type_of_Accomordation' text\n",
    "#split the text using 'in' word\n",
    "Airbnbdata_R1 = Airbnbdata['listing_Location'].str.split('in', expand=True)\n",
    "#Airbnbdata_R1\n",
    "\n",
    "#After Splitting we want to drop the actual column\n",
    "Airbnbdata = Airbnbdata.drop(['listing_Location'],axis=1)\n",
    "#Airbnbdata"
   ]
  },
  {
   "cell_type": "code",
   "execution_count": 4,
   "id": "3456f9c6",
   "metadata": {},
   "outputs": [],
   "source": [
    "#Combine the dataframes\n",
    "Airbnbdata_R2 = pd.concat([Airbnbdata_R1,Airbnbdata],axis=1)\n",
    "Airbnbdata_R2 = Airbnbdata_R2.drop([2],axis=1)\n",
    "\n",
    "#Apply appropriate label\n",
    "Airbnbdata_R2.columns = ['Type_of_Accomordation','Location_of_Accomodation','Info_Of_Accomordation', 'Feature','Total','Review_Ratings']\n",
    "#Airbnbdata_R2"
   ]
  },
  {
   "cell_type": "code",
   "execution_count": 5,
   "id": "84baf3c3",
   "metadata": {},
   "outputs": [],
   "source": [
    "#Seprate the data of guest,bedrooms,beds,baths\n",
    "#split feature columns data using \".\"\n",
    "Airbnbdata_R3 = Airbnbdata_R2['Feature'].str.split('·', expand=True)\n",
    "\n",
    "#Combine the newdataframe with original dataframe\n",
    "Airbnbdata_R4 = pd.concat([Airbnbdata_R2,Airbnbdata_R3],axis=1)\n",
    "\n",
    "#Drop the actual feature column\n",
    "Airbnbdata_R4 = Airbnbdata_R4.drop(['Feature'],axis=1)\n",
    "\n",
    "#Apply appropriate label\n",
    "Airbnbdata_R4.columns = ['Type_of_Accomordation','Location_of_Accomodation','Info_Of_Accomordation','Total','Review_Ratings', 'No_of_guest','Rooms','Beds','Bath']\n",
    "#Airbnbdata_R4"
   ]
  },
  {
   "cell_type": "code",
   "execution_count": 6,
   "id": "81cd566b",
   "metadata": {},
   "outputs": [],
   "source": [
    "#Seprate the data of guest,bedrooms,beds,baths\n",
    "#Split columns data using \".\"\n",
    "Airbnbdata_R5 = Airbnbdata_R4['Review_Ratings'].str.split('(', expand=True)\n",
    "Airbnbdata_R5\n",
    "\n",
    "#Combine the newdataframe with original dataframe\n",
    "Airbnbdata_R5 = pd.concat([Airbnbdata_R4,Airbnbdata_R5],axis=1)\n",
    "\n",
    "#Drap the actual \"Review_Rating\" column\n",
    "Airbnbdata_R5 = Airbnbdata_R5.drop(['Review_Ratings'],axis=1)\n",
    "Airbnbdata_R5\n",
    "\n",
    "#Apply appropriate label\n",
    "Airbnbdata_R5.columns = ['Type_of_Accomordation','Location_of_Accomodation','Info_Of_Accomordation','Total', 'No_of_guest','Rooms','Beds','Bath','Ratings','Review']\n",
    "#Airbnbdata_R5"
   ]
  },
  {
   "cell_type": "code",
   "execution_count": 15,
   "id": "1223e4f5",
   "metadata": {},
   "outputs": [],
   "source": [
    "#Remove \")\" from review column \n",
    "Airbnbdata_R6 = Airbnbdata_R5[\"Review\"].str.replace(')',\" \",regex=True)\n",
    "Airbnbdata_R6 = pd.DataFrame(Airbnbdata_R6)\n",
    "\n",
    "#Combine the dataframe\n",
    "Airbnbdata_R6 = pd.concat([Airbnbdata_R5,Airbnbdata_R6],axis=1)\n",
    "\n",
    "#Apply appropriate label\n",
    "Airbnbdata_R6.columns = ['Type_of_Accomordation','Location_of_Accomodation','Info_Of_Accomordation','Total', 'No_of_guest','Rooms','Beds','Bath','Ratings','Dropreview','Review']\n",
    "\n",
    "#Drop the actual column of \"Dropreview\"\n",
    "Airbnbdata_R6 = Airbnbdata_R6.drop(['Dropreview'],axis=1)\n",
    "#Airbnbdata_R6"
   ]
  },
  {
   "cell_type": "code",
   "execution_count": 8,
   "id": "20655a05",
   "metadata": {},
   "outputs": [],
   "source": [
    "#Seperate the value Total column by \",\" - so we can analysis that what are those extra values.\n",
    "Airbnbdata_R7 = Airbnbdata_R6[\"Total\"].str.split(',', expand=True)\n",
    "Airbnbdata_R7 = pd.DataFrame(Airbnbdata_R7)\n",
    "\n",
    "#Combine the dataframes\n",
    "Airbnbdata_R7 = pd.concat([Airbnbdata_R6,Airbnbdata_R7],axis=1)\n",
    "#Airbnbdata_R7"
   ]
  },
  {
   "cell_type": "code",
   "execution_count": 9,
   "id": "41b251e7",
   "metadata": {},
   "outputs": [],
   "source": [
    "#Apply appropriate label\n",
    "Airbnbdata_R7.columns = ['Type_of_Accomordation','Location_of_Accomodation','Info_Of_Accomordation','Total', 'No_of_guest','Rooms','Beds','Bath','Ratings','Review','Total/Night','night','night1','night2']\n",
    "\n",
    "#Remove unneccesary data from the table.\n",
    "Airbnbdata_R7 = Airbnbdata_R7.drop(['Total','night','night1','night2'],axis=1)\n",
    "#Airbnbdata_R7"
   ]
  },
  {
   "cell_type": "code",
   "execution_count": 10,
   "id": "22035332",
   "metadata": {},
   "outputs": [],
   "source": [
    "#Replace blank with 0 in Total/Night column\n",
    "Airbnbdata_R7 = Airbnbdata_R7.replace({'Total/Night' : { \"\" : 0}})\n",
    "#Airbnbdata_R7"
   ]
  },
  {
   "cell_type": "code",
   "execution_count": 11,
   "id": "ac392c19",
   "metadata": {},
   "outputs": [],
   "source": [
    "#Remove special character\n",
    "Airbnbdata_R7=Airbnbdata_R7.replace({'Location_of_Accomodation' : { \",\":\"\",\"-\":\"\",\"Ä\":\"a\",\"Ê»\":\"e\",\" \":\"\"}},regex=True)\n",
    "#Airbnbdata_R7"
   ]
  },
  {
   "cell_type": "code",
   "execution_count": 12,
   "id": "35506cd9",
   "metadata": {},
   "outputs": [],
   "source": [
    "#Drop the row which contains  $0 or $1 price in Total/Night column\n",
    "Airbnbdata_R7 = Airbnbdata_R7[Airbnbdata_R7[\"Total/Night\"].str.contains(\"0\") == False]\n",
    "Airbnbdata_R8 = Airbnbdata_R7[Airbnbdata_R7[\"Total/Night\"].str.contains(\"1\") == False]\n",
    "#Airbnbdata_R8"
   ]
  },
  {
   "cell_type": "code",
   "execution_count": 13,
   "id": "68a01f4a",
   "metadata": {},
   "outputs": [],
   "source": [
    "#Store Airbnb_r8(revison8) into actual AB_Data variable\n",
    "AB_Data = Airbnbdata_R8"
   ]
  },
  {
   "cell_type": "code",
   "execution_count": 14,
   "id": "ee0ed452",
   "metadata": {},
   "outputs": [],
   "source": [
    "#Store Csv file with cleaned data\n",
    "AB_Data.to_csv('C:/Users/pooja/OneDrive/Desktop/AirBnb - Web Scraping & Data Analysis/Airbnb_FE_Data.csv')"
   ]
  },
  {
   "cell_type": "code",
   "execution_count": null,
   "id": "0d9e5cbe",
   "metadata": {},
   "outputs": [],
   "source": []
  }
 ],
 "metadata": {
  "kernelspec": {
   "display_name": "Python 3 (ipykernel)",
   "language": "python",
   "name": "python3"
  },
  "language_info": {
   "codemirror_mode": {
    "name": "ipython",
    "version": 3
   },
   "file_extension": ".py",
   "mimetype": "text/x-python",
   "name": "python",
   "nbconvert_exporter": "python",
   "pygments_lexer": "ipython3",
   "version": "3.9.7"
  }
 },
 "nbformat": 4,
 "nbformat_minor": 5
}
