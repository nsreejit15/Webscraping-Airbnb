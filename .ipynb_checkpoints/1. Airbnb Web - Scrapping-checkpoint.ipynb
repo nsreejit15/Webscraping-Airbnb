{
 "cells": [
  {
   "cell_type": "markdown",
   "id": "64016ea4",
   "metadata": {
    "scrolled": true
   },
   "source": [
    "### Install webscraping Library "
   ]
  },
  {
   "cell_type": "code",
   "execution_count": 1,
   "id": "45871411",
   "metadata": {},
   "outputs": [],
   "source": [
    "import requests\n",
    "from bs4 import BeautifulSoup"
   ]
  },
  {
   "cell_type": "markdown",
   "id": "d7ebd1b7",
   "metadata": {},
   "source": [
    "### Let's Scrap Airbnb Website"
   ]
  },
  {
   "cell_type": "code",
   "execution_count": 2,
   "id": "925ae1f0",
   "metadata": {},
   "outputs": [],
   "source": [
    "# Creating a fuction to collect listing data from first page\n",
    "def get_listings(search_page):\n",
    "    answer = requests.get(search_page, timeout=5)\n",
    "    content = answer.content\n",
    "    soup = BeautifulSoup(content, 'html.parser')\n",
    "    listings = soup.find_all('div', 'cm4lcvy dir dir-ltr')\n",
    "    return listings"
   ]
  },
  {
   "cell_type": "code",
   "execution_count": 3,
   "id": "99bf31c5",
   "metadata": {},
   "outputs": [],
   "source": [
    "#To simplify the Scrapping process\n",
    "#I entered date,no of people and destination in website \n",
    "\n",
    "#Below URL with Destination:Hawai Date:Aug26 to Sep:5 No_Of People-4 \n",
    "#https://www.airbnb.ca/s/Hawaii--United-States/homes?place_id=ChIJBeB5Twbb_3sRKIbMdNKCd0s&refinement_paths%5B%5D=%2Fhomes&tab_id=home_tab&query=Hawaii%2C%20United%20States&flexible_trip_lengths%5B%5D=weekend_trip&date_picker_type=calendar&source=structured_search_input_header&search_type=filter_change&checkin=2022-08-26&checkout=2022-09-06&adults=4\n",
    "\n",
    "#lets use the above url for scrapping\n",
    "airbnb_url = 'https://www.airbnb.ca/s/Hawaii--United-States/homes?tab_id=home_tab&refinement_paths%5B%5D=%2Fhomes&flexible_trip_dates%5B%5D=april&flexible_trip_dates%5B%5D=may&flexible_trip_lengths%5B%5D=weekend_trip&date_picker_type=calendar&query=Hawaii%2C%20United%20States&place_id=ChIJBeB5Twbb_3sRKIbMdNKCd0s&checkin=2022-08-26&checkout=2022-09-06&adults=4&source=structured_search_input_header&search_type=autocomplete_click'"
   ]
  },
  {
   "cell_type": "code",
   "execution_count": 4,
   "id": "1074a1b9",
   "metadata": {},
   "outputs": [],
   "source": [
    "# Add the URl to the function to het the data in html format \n",
    "listings = get_listings(airbnb_url)"
   ]
  },
  {
   "cell_type": "code",
   "execution_count": 5,
   "id": "be9fbfc3",
   "metadata": {},
   "outputs": [],
   "source": [
    "#Check the scrap data \n",
    "#print(listings)"
   ]
  },
  {
   "cell_type": "code",
   "execution_count": 6,
   "id": "d74cd583",
   "metadata": {},
   "outputs": [],
   "source": [
    "#lets scrap the data based on css class\n",
    "#The Below way we can extract data in different column so required less cleaning at the end\n",
    "#store all the data in a dictionary with headings\n",
    "\n",
    "def extract_basic_features(listing_html):\n",
    "    \n",
    "    features_dict = {}\n",
    "    \n",
    "    #If data available then store in below format\n",
    "    try:\n",
    "        listing_Location = listing_html.find(\"div\", {\"class\": \"cuu4odx c1frjvtt dir dir-ltr\"}).text \n",
    "   \n",
    "    #if data not available then write \"Empty\" \n",
    "    except:\n",
    "        listing_Location = 'empty'\n",
    "        \n",
    "    try:\n",
    "        Listing_Name = listing_html.find(\"div\", {\"class\": \"c1bx80b8 dir dir-ltr\"}).text\n",
    "    except:\n",
    "        Listing_Name = 'empty'\n",
    "    \n",
    "    try:\n",
    "        Features = listing_html.find(\"div\", {\"class\": \"i1wgresd dir dir-ltr\"}).text\n",
    "    except:\n",
    "        Features = 'empty'\n",
    "        \n",
    "    try:\n",
    "        Price = listing_html.find(\"span\", {\"class\": \"a8jt5op dir dir-ltr\"}).text\n",
    "    except:\n",
    "        Price = 'empty'\n",
    "    \n",
    "    try:\n",
    "        Rating_Review = listing_html.find(\"div\", {\"class\": \"sglmc5a dir dir-ltr\"}).text\n",
    "    except:\n",
    "        Rating_Review = 'empty'\n",
    "        \n",
    "    \n",
    "    features_dict['listing_Location'] = listing_Location\n",
    "    features_dict['Listing_Name'] = Listing_Name\n",
    "    features_dict['Features'] = Features\n",
    "    features_dict['Price'] = Price\n",
    "    features_dict['Rating_Review'] = Rating_Review\n",
    "    \n",
    "    return features_dict"
   ]
  },
  {
   "cell_type": "code",
   "execution_count": 7,
   "id": "669e44ad",
   "metadata": {},
   "outputs": [],
   "source": [
    "# Create a fuction which collects all the URL of 15 different pages.\n",
    "def build_urls(main_url, listings_per_page=20, pages_per_location=15):\n",
    "    url_list = []\n",
    "    for i in range(pages_per_location):\n",
    "        offset = listings_per_page * i\n",
    "        url_pagination = main_url + f'&items_offset={offset}'\n",
    "        url_list.append(url_pagination)\n",
    "    \n",
    "    return url_list"
   ]
  },
  {
   "cell_type": "code",
   "execution_count": 8,
   "id": "a7bd861d",
   "metadata": {},
   "outputs": [],
   "source": [
    "# Add scrapping website URL in function\n",
    "url_list = build_urls(airbnb_url)"
   ]
  },
  {
   "cell_type": "code",
   "execution_count": 9,
   "id": "1abc45b2",
   "metadata": {},
   "outputs": [],
   "source": [
    "# let's check the URL List for all 15 Pages\n",
    "#url_list"
   ]
  },
  {
   "cell_type": "code",
   "execution_count": 10,
   "id": "e50e02e7",
   "metadata": {},
   "outputs": [],
   "source": [
    "# Add the get_listing fuction and and collect all the listing data from each page\n",
    "def process_search_pages(url_list):\n",
    "    features_list = []\n",
    "    for page in url_list:\n",
    "        listings = get_listings(page)\n",
    "        for listing in listings:\n",
    "            features = extract_basic_features(listing)\n",
    "            features_list.append(features)\n",
    "\n",
    "    return features_list"
   ]
  },
  {
   "cell_type": "code",
   "execution_count": 11,
   "id": "bb08ae7d",
   "metadata": {},
   "outputs": [],
   "source": [
    "#Add url list so we can see all the listing text\n",
    "Airbnb_Data = process_search_pages(url_list)"
   ]
  },
  {
   "cell_type": "code",
   "execution_count": 12,
   "id": "a06c8b79",
   "metadata": {},
   "outputs": [],
   "source": [
    "#lets check all the feature of listings\n",
    "#Airbnb_Data"
   ]
  },
  {
   "cell_type": "code",
   "execution_count": 13,
   "id": "2ac50867",
   "metadata": {},
   "outputs": [],
   "source": [
    "# import pandas library\n",
    "import pandas as pd"
   ]
  },
  {
   "cell_type": "code",
   "execution_count": 14,
   "id": "6890e6fa",
   "metadata": {},
   "outputs": [],
   "source": [
    "#convert the data into the dataframe\n",
    "Airbnb_Data = pd.DataFrame(Airbnb_Data)\n",
    "#Airbnb_Data"
   ]
  },
  {
   "cell_type": "code",
   "execution_count": 15,
   "id": "3f1342ab",
   "metadata": {},
   "outputs": [],
   "source": [
    "#lets Store the data into Csv file\n",
    "Airbnb_Data.to_csv('C:/Users/pooja/OneDrive/Desktop/AirBnb - Web Scraping & Data Analysis/Airbnb_WebScrap_Data.csv')"
   ]
  },
  {
   "cell_type": "code",
   "execution_count": null,
   "id": "b4f9e95e",
   "metadata": {},
   "outputs": [],
   "source": []
  }
 ],
 "metadata": {
  "kernelspec": {
   "display_name": "Python 3 (ipykernel)",
   "language": "python",
   "name": "python3"
  },
  "language_info": {
   "codemirror_mode": {
    "name": "ipython",
    "version": 3
   },
   "file_extension": ".py",
   "mimetype": "text/x-python",
   "name": "python",
   "nbconvert_exporter": "python",
   "pygments_lexer": "ipython3",
   "version": "3.9.7"
  }
 },
 "nbformat": 4,
 "nbformat_minor": 5
}
